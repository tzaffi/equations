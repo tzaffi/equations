{
 "cells": [
  {
   "cell_type": "markdown",
   "metadata": {},
   "source": [
    "Historical time periods: $t = 1, ... , T$"
   ]
  },
  {
   "cell_type": "markdown",
   "metadata": {},
   "source": [
    "Mean excess returns: $m_{t+1}$"
   ]
  },
  {
   "cell_type": "markdown",
   "metadata": {},
   "source": [
    "Volatility of excess returns: $VOL_{t+1} = \\sqrt{\\sum_{k\\in t}\\left(R_{sk} - \\overline{R}_s\\right)^2}$ "
   ]
  },
  {
   "cell_type": "markdown",
   "metadata": {},
   "source": [
    "Conditional mean: $E_tm_{t+1} = E(m_{t+1} | \\textrm{ historical data })$"
   ]
  },
  {
   "cell_type": "markdown",
   "metadata": {},
   "source": [
    "Conditional volatility: $E_tVOL_{t+1} = E(VOL_{t+1} | \\textrm{ historical data })$"
   ]
  },
  {
   "cell_type": "markdown",
   "metadata": {},
   "source": [
    "Standard model: $m_{t+1} = \\beta'Z_t + \\epsilon_{t+1}$"
   ]
  },
  {
   "cell_type": "markdown",
   "metadata": {},
   "source": [
    "$K$ _predetermined_ conditioning variables in vector $Z_t$"
   ]
  },
  {
   "cell_type": "markdown",
   "metadata": {},
   "source": [
    "Estimated conditional mean: $E_tm_{t+1} \\approx \\hat{m}_{t+1|t} = \\beta'Z_t$"
   ]
  },
  {
   "cell_type": "markdown",
   "metadata": {},
   "source": [
    "$T \\times N$ dimensioned _panel of data_ $x_{i,t}$ with $N \\gg K$"
   ]
  },
  {
   "cell_type": "markdown",
   "metadata": {},
   "source": [
    "\"Obvious\" generalization: $m_{t+1} = \\gamma'x_t + \\beta'Z_t + \\epsilon_{t+1}$"
   ]
  },
  {
   "cell_type": "markdown",
   "metadata": {},
   "source": [
    "Posited (theoretical) factor structure: $x_{it} = \\lambda_i'f_t + e_{it}$"
   ]
  },
  {
   "cell_type": "markdown",
   "metadata": {},
   "source": [
    "$r$ chosen common factors $f_t$ with $r\\ll N$: these are _unobserved_"
   ]
  },
  {
   "cell_type": "markdown",
   "metadata": {},
   "source": [
    "Refined model: $m_{t+1} = \\alpha'F_t + \\beta'Z_t + \\epsilon_{t+1}$"
   ]
  },
  {
   "cell_type": "markdown",
   "metadata": {},
   "source": [
    "$F_t \\subset f_t$: $F_t$ supposed to be more _predictive_ of $m_{t+1}$ than other factors"
   ]
  },
  {
   "cell_type": "markdown",
   "metadata": {},
   "source": [
    "Estimated factors (via PCA): $\\hat{f_t}$"
   ]
  },
  {
   "cell_type": "code",
   "execution_count": null,
   "metadata": {},
   "outputs": [],
   "source": []
  },
  {
   "cell_type": "markdown",
   "metadata": {},
   "source": [
    "$$ \\mu_t = \\delta + \\beta_1 \\sigma_t + \\beta_2 \\sigma_{t-1} + \\varepsilon_t $$"
   ]
  },
  {
   "cell_type": "markdown",
   "metadata": {},
   "source": [
    "Sharpe Ratio: $\\frac{\\mu_t}{\\sigma_t}$"
   ]
  }
 ],
 "metadata": {
  "kernelspec": {
   "display_name": "Python 3",
   "language": "python",
   "name": "python3"
  },
  "language_info": {
   "codemirror_mode": {
    "name": "ipython",
    "version": 3
   },
   "file_extension": ".py",
   "mimetype": "text/x-python",
   "name": "python",
   "nbconvert_exporter": "python",
   "pygments_lexer": "ipython3",
   "version": "3.7.3"
  }
 },
 "nbformat": 4,
 "nbformat_minor": 2
}
