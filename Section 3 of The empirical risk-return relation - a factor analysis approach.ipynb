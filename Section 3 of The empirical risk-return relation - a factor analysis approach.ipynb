{
 "cells": [
  {
   "cell_type": "markdown",
   "metadata": {},
   "source": [
    "Sharpe Ratio\n",
    "\n",
    "$$\\frac{\\mu_t}{\\sigma_t}$$"
   ]
  },
  {
   "cell_type": "markdown",
   "metadata": {},
   "source": [
    "Goal: generalize to \n",
    "\n",
    "$$ \\mu_t = \\delta + \\beta_1 \\sigma_t + \\beta_2 \\sigma_{t-1} + \\varepsilon_t $$"
   ]
  },
  {
   "cell_type": "markdown",
   "metadata": {},
   "source": [
    "Historical time periods:\n",
    "\n",
    "$$t = 1, ... , T$$"
   ]
  },
  {
   "cell_type": "markdown",
   "metadata": {},
   "source": [
    "Mean excess returns: \n",
    "\n",
    "$$m_{t+1}$$"
   ]
  },
  {
   "cell_type": "markdown",
   "metadata": {},
   "source": [
    "Volatility of excess returns (_realized volatility_): \n",
    "\n",
    "$$VOL_{t+1} = \\sqrt{\\sum\\limits_{k\\in t}\\left(R_{sk} - \\overline{R}_s\\right)^2}$$ "
   ]
  },
  {
   "cell_type": "markdown",
   "metadata": {},
   "source": [
    "Conditional mean: \n",
    "\n",
    "$$E_tm_{t+1} = E(m_{t+1} | \\textrm{ historical data through }t)$$"
   ]
  },
  {
   "cell_type": "markdown",
   "metadata": {},
   "source": [
    "Conditional volatility: \n",
    "\n",
    "$$E_tVOL_{t+1} = E(VOL_{t+1} | \\textrm{ historical data through }t)$$"
   ]
  },
  {
   "cell_type": "markdown",
   "metadata": {},
   "source": [
    "Standard model:\n",
    "\n",
    "$$m_{t+1} = \\beta'Z_t + \\epsilon_{t+1}$$"
   ]
  },
  {
   "cell_type": "markdown",
   "metadata": {},
   "source": [
    "$K$ _predetermined_ conditioning variables in vector $Z_t$"
   ]
  },
  {
   "cell_type": "markdown",
   "metadata": {},
   "source": [
    "Estimated conditional mean: \n",
    "\n",
    "$$E_tm_{t+1} \\approx \\hat{m}_{t+1|t} = \\beta'Z_t$$"
   ]
  },
  {
   "cell_type": "markdown",
   "metadata": {},
   "source": [
    "$T \\times N$ dimensional _panel of data_ $x_{i,t}$ \n",
    "\n",
    "$N \\gg K$ "
   ]
  },
  {
   "cell_type": "markdown",
   "metadata": {},
   "source": [
    "\"Obvious\" generalization: \n",
    "\n",
    "$$m_{t+1} = \\gamma'x_t + \\beta'Z_t + \\epsilon_{t+1}$$"
   ]
  },
  {
   "cell_type": "markdown",
   "metadata": {},
   "source": [
    "Posited (theoretical) factor structure: \n",
    "\n",
    "$$x_{it} = \\lambda_i'f_t + e_{it}$$"
   ]
  },
  {
   "cell_type": "markdown",
   "metadata": {},
   "source": [
    "$r\\ll N$ _unobserved_ factors:\n",
    "\n",
    "$$f_t$$"
   ]
  },
  {
   "cell_type": "markdown",
   "metadata": {},
   "source": [
    "Refined model: \n",
    "\n",
    "$$m_{t+1} = \\alpha'F_t + \\beta'Z_t + \\epsilon_{t+1}$$"
   ]
  },
  {
   "cell_type": "markdown",
   "metadata": {},
   "source": [
    "$$F_t \\subset f_t$$\n",
    "\n",
    "Subset $F_t$ _of most predictive_ factors for $m_{t+1}$"
   ]
  },
  {
   "cell_type": "markdown",
   "metadata": {},
   "source": [
    "Estimated factors (via PCA) converging to same subspace as: \n",
    "\n",
    "$$\\hat{f_t}$$"
   ]
  },
  {
   "cell_type": "markdown",
   "metadata": {},
   "source": [
    "Assumptions:\n",
    "\n",
    "$$N,T \\rightarrow \\infty, \\sqrt{T}/N \\rightarrow 0$$"
   ]
  },
  {
   "cell_type": "markdown",
   "metadata": {},
   "source": [
    "$\\hat{F_t} \\subset \\hat{f_t} \\cup \\{\\textrm{monomials, \"other\" functions of } \\hat{f_{it}}  \\}$"
   ]
  },
  {
   "cell_type": "markdown",
   "metadata": {},
   "source": [
    "Final _mean returns_ model:\n",
    "\n",
    "$$m_{t+1} = \\alpha'\\hat{F_t} + \\beta'Z_t + \\epsilon_{t+1}$$\n",
    "\n",
    "(chosen to minimize BIC)"
   ]
  },
  {
   "cell_type": "markdown",
   "metadata": {},
   "source": [
    "Fitted conditional mean:\n",
    "\n",
    "$$\\mu_t \\equiv \\hat{m}_{t+1|t} = \\hat{a}'\\hat{F_t} + \\hat{\\beta}'Z_t$$"
   ]
  },
  {
   "cell_type": "markdown",
   "metadata": {},
   "source": [
    "Final _volatility_ model:\n",
    "\n",
    "$$VOL_{t+1} = \\alpha'\\hat{F_t} + \\beta'Z_t + u_{t+1}$$\n",
    "\n",
    "(same letters, but different values)"
   ]
  },
  {
   "cell_type": "markdown",
   "metadata": {},
   "source": [
    "Fitted conditional volatility:\n",
    "\n",
    "$$\\sigma_t \\equiv \\widehat{VOL}_{t+1|t} = \\hat{a}'\\hat{F_t} + \\hat{\\beta}'Z_t$$"
   ]
  },
  {
   "cell_type": "markdown",
   "metadata": {},
   "source": [
    "Read for training on relationship:\n",
    "\n",
    "$$ \\mu_t = \\delta + \\beta_1 \\sigma_t + \\beta_2 \\sigma_{t-1} + \\varepsilon_t $$"
   ]
  }
 ],
 "metadata": {
  "kernelspec": {
   "display_name": "Python 3",
   "language": "python",
   "name": "python3"
  },
  "language_info": {
   "codemirror_mode": {
    "name": "ipython",
    "version": 3
   },
   "file_extension": ".py",
   "mimetype": "text/x-python",
   "name": "python",
   "nbconvert_exporter": "python",
   "pygments_lexer": "ipython3",
   "version": "3.7.3"
  }
 },
 "nbformat": 4,
 "nbformat_minor": 2
}
